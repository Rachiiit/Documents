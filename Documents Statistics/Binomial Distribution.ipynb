{
 "cells": [
  {
   "cell_type": "markdown",
   "metadata": {},
   "source": [
    "Binomial Distribution --> Discrete Probability\n",
    "Using Scipy & Matplotlib"
   ]
  },
  {
   "cell_type": "code",
   "execution_count": null,
   "metadata": {},
   "outputs": [],
   "source": [
    "#Syntax : scipy.stats.binom.stats(n, p)"
   ]
  },
  {
   "cell_type": "code",
   "execution_count": 1,
   "metadata": {},
   "outputs": [],
   "source": [
    "import scipy.stats\n",
    "from scipy.stats import binom \n",
    "import matplotlib.pyplot as plt"
   ]
  },
  {
   "cell_type": "markdown",
   "metadata": {},
   "source": [
    "scipy.stats.binom.pmf() function is used to obtain the probability mass function for a certain value of r or x, n and p. "
   ]
  },
  {
   "cell_type": "code",
   "execution_count": 2,
   "metadata": {},
   "outputs": [
    {
     "data": {
      "text/plain": [
       "0.20507812500000022"
      ]
     },
     "execution_count": 2,
     "metadata": {},
     "output_type": "execute_result"
    }
   ],
   "source": [
    "#Toss of a coin \n",
    "#To find out the probability r or x =6 heads, n=10, p=0.5 \n",
    "binom.pmf(6,10,0.5)"
   ]
  },
  {
   "cell_type": "code",
   "execution_count": 5,
   "metadata": {},
   "outputs": [],
   "source": [
    "n = 10\n",
    "p = 0.5\n",
    "r_values = list(range(n + 1)) # [0,1,2,3,4,5,6,7,8,9,10]"
   ]
  },
  {
   "cell_type": "code",
   "execution_count": 7,
   "metadata": {},
   "outputs": [
    {
     "data": {
      "text/plain": [
       "[0.0009765625,\n",
       " 0.00976562500000001,\n",
       " 0.04394531249999999,\n",
       " 0.11718750000000014,\n",
       " 0.20507812500000022,\n",
       " 0.24609375000000025,\n",
       " 0.20507812500000022,\n",
       " 0.11718750000000014,\n",
       " 0.04394531249999999,\n",
       " 0.00976562500000001,\n",
       " 0.0009765625]"
      ]
     },
     "execution_count": 7,
     "metadata": {},
     "output_type": "execute_result"
    }
   ],
   "source": [
    "# list of pmf values \n",
    "dist = [binom.pmf(r, n, p) for r in r_values ]\n",
    "dist"
   ]
  },
  {
   "cell_type": "code",
   "execution_count": 8,
   "metadata": {},
   "outputs": [
    {
     "name": "stdout",
     "output_type": "stream",
     "text": [
      "r\tp(r)\n",
      "0\t0.0009765625\n",
      "1\t0.00976562500000001\n",
      "2\t0.04394531249999999\n",
      "3\t0.11718750000000014\n",
      "4\t0.20507812500000022\n",
      "5\t0.24609375000000025\n",
      "6\t0.20507812500000022\n",
      "7\t0.11718750000000014\n",
      "8\t0.04394531249999999\n",
      "9\t0.00976562500000001\n",
      "10\t0.0009765625\n"
     ]
    }
   ],
   "source": [
    "# printing the table --> \"\\tp\" is a tab, \"\\n\" is a newline, and \"\\r\" is a carriage return\n",
    "print(\"r\\tp(r)\") \n",
    "for i in range(n + 1):\n",
    "    print(str(r_values[i]) + \"\\t\" + str(dist[i])) "
   ]
  },
  {
   "cell_type": "code",
   "execution_count": 11,
   "metadata": {},
   "outputs": [
    {
     "name": "stdout",
     "output_type": "stream",
     "text": [
      "mean = 5.0\n",
      "variance = 2.5\n"
     ]
    }
   ],
   "source": [
    "# obtaining the mean and variance \n",
    "mean, var = binom.stats(n, p)\n",
    "# printing mean and variance \n",
    "print(\"mean = \"+str(mean)) \n",
    "print(\"variance = \"+str(var))"
   ]
  },
  {
   "cell_type": "code",
   "execution_count": 12,
   "metadata": {},
   "outputs": [
    {
     "data": {
      "image/png": "[encoded data removed]",
      "text/plain": [
       "<Figure size 432x288 with 1 Axes>"
      ]
     },
     "metadata": {
      "needs_background": "light"
     },
     "output_type": "display_data"
    }
   ],
   "source": [
    "# plotting the above graph \n",
    "plt.bar(r_values, dist) \n",
    "plt.show()"
   ]
  }
 ],
 "metadata": {
  "kernelspec": {
   "display_name": "Python 3",
   "language": "python",
   "name": "python3"
  },
  "language_info": {
   "codemirror_mode": {
    "name": "ipython",
    "version": 3
   },
   "file_extension": ".py",
   "mimetype": "text/x-python",
   "name": "python",
   "nbconvert_exporter": "python",
   "pygments_lexer": "ipython3",
   "version": "3.8.8"
  }
 },
 "nbformat": 4,
 "nbformat_minor": 2
}
